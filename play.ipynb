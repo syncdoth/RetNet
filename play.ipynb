{
 "cells": [
  {
   "cell_type": "code",
   "execution_count": 2,
   "metadata": {},
   "outputs": [],
   "source": [
    "import torch\n",
    "\n",
    "from retnet.configuration_retnet import RetNetConfig\n",
    "from retnet.modeling_retnet import RetNetModel, RetNetModelWithLMHead\n",
    "\n",
    "%load_ext autoreload\n",
    "%autoreload 2"
   ]
  },
  {
   "cell_type": "code",
   "execution_count": 3,
   "metadata": {},
   "outputs": [],
   "source": [
    "torch.manual_seed(0)\n",
    "config = RetNetConfig(decoder_layers=6,\n",
    "                      decoder_embed_dim=256,\n",
    "                      decoder_retention_heads=4,\n",
    "                      decoder_ffn_embed_dim=512)\n",
    "\n",
    "model = RetNetModel(config)\n",
    "model.eval()\n",
    "\n",
    "device = 'cpu'  # cuda, cpu, mps for m1 mac\n",
    "model = model.to(device)"
   ]
  },
  {
   "cell_type": "markdown",
   "metadata": {},
   "source": [
    "## Test 1: Basic Equivalence of the 3 forward implementations"
   ]
  },
  {
   "cell_type": "code",
   "execution_count": 4,
   "metadata": {},
   "outputs": [
    {
     "name": "stdout",
     "output_type": "stream",
     "text": [
      "parallel vs recurrent True\n",
      "parallel vs chunkwise False\n",
      "layer: 1\n",
      "parallel vs recurrent: True\n",
      "parallel vs chunkwise True\n",
      "layer: 2\n",
      "parallel vs recurrent: True\n",
      "parallel vs chunkwise False\n",
      "layer: 3\n",
      "parallel vs recurrent: True\n",
      "parallel vs chunkwise False\n",
      "layer: 4\n",
      "parallel vs recurrent: True\n",
      "parallel vs chunkwise False\n",
      "layer: 5\n",
      "parallel vs recurrent: True\n",
      "parallel vs chunkwise False\n",
      "layer: 6\n",
      "parallel vs recurrent: True\n",
      "parallel vs chunkwise False\n"
     ]
    }
   ],
   "source": [
    "input_ids = torch.LongTensor([[1,2,1,2]]).to(device)\n",
    "\n",
    "parallel_outputs = model(input_ids, forward_impl='parallel', use_cache=True)\n",
    "parallel_state = parallel_outputs.last_hidden_state\n",
    "parallel_cache = parallel_outputs.past_key_values\n",
    "\n",
    "past_kv = None\n",
    "rnn_state = []\n",
    "for i in range(input_ids.shape[1]):\n",
    "    rnn_out = model(input_ids[:, :i+1], forward_impl='recurrent', past_key_values=past_kv, use_cache=True)\n",
    "    rnn_state.append(rnn_out.last_hidden_state)\n",
    "    past_kv = rnn_out.past_key_values\n",
    "rnn_state = torch.cat(rnn_state, dim=1)\n",
    "rnn_cache = rnn_out.past_key_values\n",
    "\n",
    "\n",
    "chunk_outputs = model(input_ids, forward_impl='chunkwise', use_cache=True, recurrent_chunk_size=2)\n",
    "chunk_state = chunk_outputs.last_hidden_state\n",
    "chunk_cache = chunk_outputs.past_key_values\n",
    "\n",
    "print('parallel vs recurrent', torch.allclose(parallel_state, rnn_state, atol=1e-5))\n",
    "print('parallel vs chunkwise', torch.allclose(parallel_state, chunk_state, atol=1e-5))\n",
    "\n",
    "for i, (p, r, c) in enumerate(zip(parallel_cache, rnn_cache, chunk_cache)):\n",
    "    print(f\"layer: {i + 1}\")\n",
    "    key = 'prev_key_value'\n",
    "    print('parallel vs recurrent:', torch.allclose(p[key], r[key], atol=1e-5))\n",
    "    print('parallel vs chunkwise', torch.allclose(p[key], c[key], atol=1e-5))"
   ]
  },
  {
   "cell_type": "markdown",
   "metadata": {},
   "source": [
    "## Test 2: Retention Mask\n",
    "\n",
    "Test both left padding / right padding"
   ]
  },
  {
   "cell_type": "code",
   "execution_count": 5,
   "metadata": {},
   "outputs": [
    {
     "name": "stdout",
     "output_type": "stream",
     "text": [
      "parallel vs recurrent: True\n",
      "parallel vs chunkwise False\n",
      "layer: 1\n",
      "parallel vs recurrent: True\n",
      "parallel vs chunkwise False\n",
      "layer: 2\n",
      "parallel vs recurrent: True\n",
      "parallel vs chunkwise False\n",
      "layer: 3\n",
      "parallel vs recurrent: True\n",
      "parallel vs chunkwise False\n",
      "layer: 4\n",
      "parallel vs recurrent: True\n",
      "parallel vs chunkwise False\n",
      "layer: 5\n",
      "parallel vs recurrent: True\n",
      "parallel vs chunkwise False\n",
      "layer: 6\n",
      "parallel vs recurrent: True\n",
      "parallel vs chunkwise False\n"
     ]
    }
   ],
   "source": [
    "input_ids = torch.LongTensor([[1,2,3,4,1,2,5,5],\n",
    "                              [5,5,1,2,3,4,1,2]]).to(device)\n",
    "retention_mask = torch.LongTensor([[1,1,1,1,1,1,0,0],\n",
    "                                   [0,0,1,1,1,1,1,1]]).to(device)\n",
    "\n",
    "parallel_outputs = model(input_ids, retention_mask=retention_mask, forward_impl='parallel', use_cache=True)\n",
    "parallel_state = parallel_outputs.last_hidden_state\n",
    "parallel_cache = parallel_outputs.past_key_values\n",
    "\n",
    "past_kv = None\n",
    "rnn_state = []\n",
    "for i in range(input_ids.shape[1]):\n",
    "    rnn_out = model(input_ids[:, :i+1], retention_mask=retention_mask[:, i:i+1], forward_impl='recurrent', past_key_values=past_kv, use_cache=True)\n",
    "    rnn_state.append(rnn_out.last_hidden_state)\n",
    "    past_kv = rnn_out.past_key_values\n",
    "rnn_state = torch.cat(rnn_state, dim=1)\n",
    "rnn_cache = rnn_out.past_key_values\n",
    "\n",
    "\n",
    "chunk_outputs = model(input_ids, retention_mask=retention_mask, forward_impl='chunkwise', use_cache=True, recurrent_chunk_size=4)\n",
    "chunk_state = chunk_outputs.last_hidden_state\n",
    "chunk_cache = chunk_outputs.past_key_values\n",
    "\n",
    "mask = retention_mask.unsqueeze(-1).float()\n",
    "print('parallel vs recurrent:', torch.allclose(parallel_state * mask, rnn_state * mask, atol=1e-5))\n",
    "print('parallel vs chunkwise', torch.allclose(parallel_state * mask, chunk_state * mask, atol=1e-5))\n",
    "\n",
    "for i, (p, r, c) in enumerate(zip(parallel_cache, rnn_cache, chunk_cache)):\n",
    "    print(f\"layer: {i + 1}\")\n",
    "    key = 'prev_key_value'\n",
    "    print('parallel vs recurrent:', torch.allclose(p[key], r[key], atol=1e-5))\n",
    "    print('parallel vs chunkwise', torch.allclose(p[key], c[key], atol=1e-5))\n"
   ]
  },
  {
   "cell_type": "markdown",
   "metadata": {},
   "source": [
    "## Test 3: Generate"
   ]
  },
  {
   "cell_type": "code",
   "execution_count": 6,
   "metadata": {},
   "outputs": [
    {
     "name": "stdout",
     "output_type": "stream",
     "text": [
      "tensor(True)\n",
      "tensor(True)\n"
     ]
    }
   ],
   "source": [
    "input_ids = torch.LongTensor([[1,2,3,4,5,6,7,8],\n",
    "                              [8,7,6,5,4,3,2,1]]).to(device)\n",
    "model = RetNetModelWithLMHead(config).to(device)\n",
    "model.eval()\n",
    "\n",
    "# greedy\n",
    "p_generated = model.generate(input_ids, parallel_compute_prompt=True, max_new_tokens=20, do_sample=False, early_stopping=False)\n",
    "r_generated = model.generate(input_ids, parallel_compute_prompt=False, max_new_tokens=20, do_sample=False, early_stopping=False)\n",
    "print((p_generated == r_generated).all())\n",
    "\n",
    "# sampling\n",
    "torch.manual_seed(0)\n",
    "p_generated = model.generate(input_ids, parallel_compute_prompt=True, max_new_tokens=20, do_sample=True, early_stopping=False)\n",
    "torch.manual_seed(0)\n",
    "r_generated = model.generate(input_ids, parallel_compute_prompt=False, max_new_tokens=20, do_sample=True, early_stopping=False)\n",
    "print((p_generated == r_generated).all())\n",
    "\n"
   ]
  },
  {
   "cell_type": "markdown",
   "metadata": {},
   "source": [
    "## Test 4: Forgetting (Long sequence dependency)"
   ]
  },
  {
   "cell_type": "code",
   "execution_count": 7,
   "metadata": {},
   "outputs": [],
   "source": [
    "config = RetNetConfig(decoder_layers=6,\n",
    "                      decoder_embed_dim=256,\n",
    "                      decoder_retention_heads=4,\n",
    "                      decoder_ffn_embed_dim=512)\n",
    "\n",
    "model = RetNetModel(config)\n",
    "model.eval();"
   ]
  },
  {
   "cell_type": "code",
   "execution_count": 8,
   "metadata": {},
   "outputs": [],
   "source": [
    "i = 256\n",
    "effective_seqlen = []\n",
    "for e in range(6):\n",
    "    non_zero_start = torch.where(model.retnet_rel_pos(i)[1][0][0, 0, -1] > 0)[0][0]\n",
    "    effective_seqlen.append(i - non_zero_start.item())\n",
    "    i *= 2"
   ]
  },
  {
   "cell_type": "code",
   "execution_count": 9,
   "metadata": {},
   "outputs": [
    {
     "data": {
      "image/png": "[encoded data removed]",
      "text/plain": [
       "<Figure size 640x480 with 1 Axes>"
      ]
     },
     "metadata": {},
     "output_type": "display_data"
    }
   ],
   "source": [
    "import matplotlib.pyplot as plt\n",
    "\n",
    "x = [2 ** (8 + i) for i in range(6)]\n",
    "\n",
    "plt.title(\"Forgetting Experiment\")\n",
    "plt.loglog(x, effective_seqlen, base=2)\n",
    "plt.xticks(x, x)\n",
    "plt.xlabel(\"Sequence Length\")\n",
    "plt.ylabel(\"Effective Sequence Length\");"
   ]
  },
  {
   "cell_type": "code",
   "execution_count": 10,
   "metadata": {},
   "outputs": [
    {
     "data": {
      "text/plain": [
       "[256, 512, 1024, 2048, 3225, 3225]"
      ]
     },
     "execution_count": 10,
     "metadata": {},
     "output_type": "execute_result"
    }
   ],
   "source": [
    "effective_seqlen"
   ]
  },
  {
   "cell_type": "markdown",
   "metadata": {},
   "source": [
    "## Inference Time Test"
   ]
  },
  {
   "cell_type": "code",
   "execution_count": 17,
   "metadata": {},
   "outputs": [
    {
     "name": "stdout",
     "output_type": "stream",
     "text": [
      "############################## seqlen: 256 ##############################\n",
      "parallel: 1.0023608207702637\n",
      "recurrent: 0.1654500961303711\n",
      "############################## seqlen: 512 ##############################\n",
      "parallel: 1.9274981021881104\n",
      "recurrent: 0.06916308403015137\n",
      "############################## seqlen: 1024 ##############################\n",
      "parallel: 5.113396883010864\n",
      "recurrent: 0.07078385353088379\n",
      "############################## seqlen: 2048 ##############################\n",
      "parallel: 9.908579111099243\n",
      "recurrent: 0.0744469165802002\n",
      "############################## seqlen: 4096 ##############################\n",
      "parallel: 37.91721701622009\n",
      "recurrent: 0.11470627784729004\n"
     ]
    }
   ],
   "source": [
    "import time\n",
    "\n",
    "model = RetNetModel(config).to(device)\n",
    "model.eval()\n",
    "\n",
    "parallel_history = []\n",
    "recurrent_history = []\n",
    "\n",
    "sequence_lengths = [256, 512, 1024, 2048, 4096]\n",
    "generate_length = 20\n",
    "for seqlen in sequence_lengths:\n",
    "    print(\"#\" * 30, f\"seqlen: {seqlen}\", \"#\" * 30)\n",
    "    input_ids = torch.ones(1, seqlen).long().to(device)\n",
    "    # first, 1 forward pass to compute the prompt\n",
    "    parallel_outputs = model(input_ids, forward_impl='parallel', use_cache=True)\n",
    "    past_kv = parallel_outputs.past_key_values\n",
    "    # start generating. This is mock generation, we don't care about the output\n",
    "    start = time.time()\n",
    "    for i in range(1, generate_length):\n",
    "        input_ids = torch.ones(1, seqlen + i).long().to(device)\n",
    "        parallel_outputs = model(input_ids, forward_impl='parallel', use_cache=True)\n",
    "    parallel_time = time.time() - start\n",
    "    print(f\"parallel: {parallel_time}\")\n",
    "    parallel_history.append(parallel_time)\n",
    "\n",
    "    start = time.time()\n",
    "    for i in range(1, generate_length):\n",
    "        input_ids = torch.ones(1, seqlen + i).long().to(device)\n",
    "        rnn_out = model(input_ids, forward_impl='recurrent', past_key_values=past_kv, use_cache=True)\n",
    "        past_kv = rnn_out.past_key_values  \n",
    "    recurrent_time = time.time() - start\n",
    "    print(f\"recurrent: {recurrent_time}\")\n",
    "    recurrent_history.append(recurrent_time)\n",
    "\n"
   ]
  },
  {
   "cell_type": "code",
   "execution_count": 18,
   "metadata": {},
   "outputs": [
    {
     "data": {
      "image/png": "[encoded data removed]",
      "text/plain": [
       "<Figure size 640x480 with 1 Axes>"
      ]
     },
     "metadata": {},
     "output_type": "display_data"
    }
   ],
   "source": [
    "plt.plot(sequence_lengths, parallel_history, label='parallel')\n",
    "plt.plot(sequence_lengths, recurrent_history, label='recurrent')\n",
    "plt.xticks(sequence_lengths, sequence_lengths)\n",
    "plt.legend()\n",
    "plt.xlabel(\"Sequence Length\")\n",
    "plt.ylabel(\"Time (s)\")\n",
    "plt.title(\"Parallel vs Recurrent Inference\");"
   ]
  },
  {
   "cell_type": "code",
   "execution_count": null,
   "metadata": {},
   "outputs": [],
   "source": []
  }
 ],
 "metadata": {
  "kernelspec": {
   "display_name": "torch-m1",
   "language": "python",
   "name": "python3"
  },
  "language_info": {
   "codemirror_mode": {
    "name": "ipython",
    "version": 3
   },
   "file_extension": ".py",
   "mimetype": "text/x-python",
   "name": "python",
   "nbconvert_exporter": "python",
   "pygments_lexer": "ipython3",
   "version": "3.1.0"
  },
  "orig_nbformat": 4
 },
 "nbformat": 4,
 "nbformat_minor": 2
}
